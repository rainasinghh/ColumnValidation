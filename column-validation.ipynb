{
 "cells": [
  {
   "cell_type": "code",
   "execution_count": 25,
   "id": "1b5b828f-d071-4f6b-819b-9e85606ab5e4",
   "metadata": {},
   "outputs": [
    {
     "name": "stdout",
     "output_type": "stream",
     "text": [
      "Requirement already satisfied: pandas in c:\\users\\raina\\appdata\\local\\programs\\python\\python312\\lib\\site-packages (2.2.3)\n",
      "Requirement already satisfied: numpy>=1.26.0 in c:\\users\\raina\\appdata\\local\\programs\\python\\python312\\lib\\site-packages (from pandas) (2.1.2)\n",
      "Requirement already satisfied: python-dateutil>=2.8.2 in c:\\users\\raina\\appdata\\local\\programs\\python\\python312\\lib\\site-packages (from pandas) (2.9.0.post0)\n",
      "Requirement already satisfied: pytz>=2020.1 in c:\\users\\raina\\appdata\\local\\programs\\python\\python312\\lib\\site-packages (from pandas) (2024.2)\n",
      "Requirement already satisfied: tzdata>=2022.7 in c:\\users\\raina\\appdata\\local\\programs\\python\\python312\\lib\\site-packages (from pandas) (2024.2)\n",
      "Requirement already satisfied: six>=1.5 in c:\\users\\raina\\appdata\\local\\programs\\python\\python312\\lib\\site-packages (from python-dateutil>=2.8.2->pandas) (1.16.0)\n"
     ]
    },
    {
     "name": "stderr",
     "output_type": "stream",
     "text": [
      "\n",
      "[notice] A new release of pip is available: 24.2 -> 24.3.1\n",
      "[notice] To update, run: python.exe -m pip install --upgrade pip\n"
     ]
    },
    {
     "name": "stdout",
     "output_type": "stream",
     "text": [
      "Requirement already satisfied: pyyaml in c:\\users\\raina\\appdata\\local\\programs\\python\\python312\\lib\\site-packages (6.0.2)\n"
     ]
    },
    {
     "name": "stderr",
     "output_type": "stream",
     "text": [
      "\n",
      "[notice] A new release of pip is available: 24.2 -> 24.3.1\n",
      "[notice] To update, run: python.exe -m pip install --upgrade pip\n"
     ]
    }
   ],
   "source": [
    "!pip install pandas\n",
    "!pip install pyyaml"
   ]
  },
  {
   "cell_type": "code",
   "execution_count": 1,
   "id": "154712ad-9e9e-4fc3-94d6-ed98fc236874",
   "metadata": {},
   "outputs": [
    {
     "name": "stdout",
     "output_type": "stream",
     "text": [
      "Overwriting file.yaml\n"
     ]
    }
   ],
   "source": [
    "%%writefile file.yaml\n",
    "dataset-path: \"archive/parking.csv\"\n",
    "output-path: \"archive/parking.txt.gz\"\n",
    "file-type: csv\n",
    "dataset-delimiter: \",\"\n",
    "write-delimiter: \"|\"\n",
    "num-cols: 51\n",
    "cols:\n",
    "  - summons_number\n",
    "  - plate_id\n",
    "  - registration_state\n",
    "  - plate_type\n",
    "  - issue_date\n",
    "  - violation_code\n",
    "  - vehicle_body_type\n",
    "  - vehicle_make\n",
    "  - issuing_agency\n",
    "  - street_code1\n",
    "  - street_code2\n",
    "  - street_code3\n",
    "  - vehicle_expiration_date\n",
    "  - violation_location\n",
    "  - violation_precinct\n",
    "  - issuer_precinct\n",
    "  - issuer_code\n",
    "  - issuer_command\n",
    "  - issuer_squad\n",
    "  - violation_time\n",
    "  - time_first_observed\n",
    "  - violation_county\n",
    "  - violation_in_front_of_or_opposite\n",
    "  - house_number\n",
    "  - street_name\n",
    "  - intersecting_street\n",
    "  - date_first_observed\n",
    "  - law_section\n",
    "  - sub_division\n",
    "  - violation_legal_code\n",
    "  - days_parking_in_effect\n",
    "  - from_hours_in_effect\n",
    "  - to_hours_in_effect\n",
    "  - vehicle_color\n",
    "  - unregistered_vehicle\n",
    "  - vehicle_year\n",
    "  - meter_number\n",
    "  - feet_from_curb\n",
    "  - violation_post_code\n",
    "  - violation_description\n",
    "  - no_standing_or_stopping_violation\n",
    "  - hydrant_violation\n",
    "  - double_parking_violation\n",
    "  - latitude\n",
    "  - longitude\n",
    "  - community_board\n",
    "  - community_council\n",
    "  - census_tract\n",
    "  - bin\n",
    "  - bbl\n",
    "  - nta"
   ]
  },
  {
   "cell_type": "code",
   "execution_count": 5,
   "id": "0c3416ed-cc7d-40f6-a393-5ef31029a1bb",
   "metadata": {},
   "outputs": [
    {
     "name": "stdout",
     "output_type": "stream",
     "text": [
      "Unzip complete\n"
     ]
    }
   ],
   "source": [
    "import zipfile\n",
    "with zipfile.ZipFile(\"archive.zip\", 'r') as zip_ref:\n",
    "    zip_ref.extractall(\"archive\")\n",
    "print(\"Unzip complete\")"
   ]
  },
  {
   "cell_type": "code",
   "execution_count": 1,
   "id": "7d0e3407-39ca-461c-aedb-b269f1a81960",
   "metadata": {},
   "outputs": [],
   "source": [
    "import pandas as pd\n",
    "import numpy as np\n",
    "data = pd.read_csv(\"archive/parking.csv\")\n",
    "# Normal pandas takes >100 seconds for computation"
   ]
  },
  {
   "cell_type": "code",
   "execution_count": 2,
   "id": "dda10b6e-ecf1-4129-9593-9efb178f88fc",
   "metadata": {},
   "outputs": [
    {
     "name": "stderr",
     "output_type": "stream",
     "text": [
      "2024-11-12 22:31:48,359\tINFO worker.py:1819 -- Started a local Ray instance.\n",
      "UserWarning: `read_*` implementation has mismatches with pandas:\n",
      "Data types of partitions are different! Please refer to the troubleshooting section of the Modin documentation to fix this issue.\n"
     ]
    }
   ],
   "source": [
    "import os\n",
    "import modin.pandas as pd\n",
    "\n",
    "os.environ[\"MODIN_ENGINE\"] = \"ray\"\n",
    "\n",
    "data = pd.read_csv('archive/parking.csv.')\n",
    "# Modin has much faster computation than pandas <50 seconds"
   ]
  },
  {
   "cell_type": "code",
   "execution_count": 3,
   "id": "d31b3fbf-4552-418f-bfcd-870d3c164f4d",
   "metadata": {},
   "outputs": [],
   "source": [
    "# Removing special characters and white space:\n",
    "import re\n",
    "\n",
    "data.columns = data.columns.str.strip()\n",
    "data.columns = data.columns.str.replace(' ', '_')\n",
    "data.columns = data.columns.str.lower()\n",
    "\n",
    "new_cols = []\n",
    "for col in data.columns:\n",
    "    new_cols.append(re.sub('[^A-Za-z0-9_]+', '', col))\n",
    "\n",
    "data.columns = new_cols"
   ]
  },
  {
   "cell_type": "code",
   "execution_count": 4,
   "id": "44613665-52a7-4ce5-8e2c-5a2f62d55e33",
   "metadata": {},
   "outputs": [],
   "source": [
    "# Writing data to csv\n",
    "data.to_csv('archive/parking_clean.csv', index=False)"
   ]
  },
  {
   "cell_type": "code",
   "execution_count": 3,
   "id": "5b5f5982-dff3-445a-87da-5d987752c3c5",
   "metadata": {},
   "outputs": [
    {
     "data": {
      "text/plain": [
       "{'dataset-path': 'archive/parking_clean.csv',\n",
       " 'output-path': 'archive/parking.txt.gz',\n",
       " 'file-type': 'csv',\n",
       " 'dataset-delimiter': ',',\n",
       " 'write-delimiter': '|',\n",
       " 'num-cols': 51,\n",
       " 'cols': ['summons_number',\n",
       "  'plate_id',\n",
       "  'registration_state',\n",
       "  'plate_type',\n",
       "  'issue_date',\n",
       "  'violation_code',\n",
       "  'vehicle_body_type',\n",
       "  'vehicle_make',\n",
       "  'issuing_agency',\n",
       "  'street_code1',\n",
       "  'street_code2',\n",
       "  'street_code3',\n",
       "  'vehicle_expiration_date',\n",
       "  'violation_location',\n",
       "  'violation_precinct',\n",
       "  'issuer_precinct',\n",
       "  'issuer_code',\n",
       "  'issuer_command',\n",
       "  'issuer_squad',\n",
       "  'violation_time',\n",
       "  'time_first_observed',\n",
       "  'violation_county',\n",
       "  'violation_in_front_of_or_opposite',\n",
       "  'house_number',\n",
       "  'street_name',\n",
       "  'intersecting_street',\n",
       "  'date_first_observed',\n",
       "  'law_section',\n",
       "  'sub_division',\n",
       "  'violation_legal_code',\n",
       "  'days_parking_in_effect',\n",
       "  'from_hours_in_effect',\n",
       "  'to_hours_in_effect',\n",
       "  'vehicle_color',\n",
       "  'unregistered_vehicle',\n",
       "  'vehicle_year',\n",
       "  'meter_number',\n",
       "  'feet_from_curb',\n",
       "  'violation_post_code',\n",
       "  'violation_description',\n",
       "  'no_standing_or_stopping_violation',\n",
       "  'hydrant_violation',\n",
       "  'double_parking_violation',\n",
       "  'latitude',\n",
       "  'longitude',\n",
       "  'community_board',\n",
       "  'community_council',\n",
       "  'census_tract',\n",
       "  'bin',\n",
       "  'bbl',\n",
       "  'nta']}"
      ]
     },
     "execution_count": 3,
     "metadata": {},
     "output_type": "execute_result"
    }
   ],
   "source": [
    "import validation\n",
    "# Loading invalid data\n",
    "valParams = validation.readYaml(\"file.yaml\")\n",
    "valParams"
   ]
  },
  {
   "cell_type": "code",
   "execution_count": 6,
   "id": "6375948f-a11f-40e3-a223-4b3b464c80ec",
   "metadata": {},
   "outputs": [
    {
     "name": "stdout",
     "output_type": "stream",
     "text": [
      "The following dataframe columns were unexpected: ['Summons Number', 'Plate ID', 'Registration State', 'Plate Type', 'Issue Date', 'Violation Code', 'Vehicle Body Type', 'Vehicle Make', 'Issuing Agency', 'Street Code1', 'Street Code2', 'Street Code3', 'Vehicle Expiration Date', 'Violation Location', 'Violation Precinct', 'Issuer Precinct', 'Issuer Code', 'Issuer Command', 'Issuer Squad', 'Violation Time', 'Time First Observed', 'Violation County', 'Violation In Front Of Or Opposite', 'House Number', 'Street Name', 'Intersecting Street', 'Date First Observed', 'Law Section', 'Sub Division', 'Violation Legal Code', 'Days Parking In Effect    ', 'From Hours In Effect', 'To Hours In Effect', 'Vehicle Color', 'Unregistered Vehicle?', 'Vehicle Year', 'Meter Number', 'Feet From Curb', 'Violation Post Code', 'Violation Description', 'No Standing or Stopping Violation', 'Hydrant Violation', 'Double Parking Violation', 'Latitude', 'Longitude', 'Community Board', 'Community Council ', 'Census Tract', 'BIN', 'BBL', 'NTA']\n",
      "\n",
      "The following expected columns are not in the dataframe: ['summons_number', 'plate_id', 'registration_state', 'plate_type', 'issue_date', 'violation_code', 'vehicle_body_type', 'vehicle_make', 'issuing_agency', 'street_code1', 'street_code2', 'street_code3', 'vehicle_expiration_date', 'violation_location', 'violation_precinct', 'issuer_precinct', 'issuer_code', 'issuer_command', 'issuer_squad', 'violation_time', 'time_first_observed', 'violation_county', 'violation_in_front_of_or_opposite', 'house_number', 'street_name', 'intersecting_street', 'date_first_observed', 'law_section', 'sub_division', 'violation_legal_code', 'days_parking_in_effect', 'from_hours_in_effect', 'to_hours_in_effect', 'vehicle_color', 'unregistered_vehicle', 'vehicle_year', 'meter_number', 'feet_from_curb', 'violation_post_code', 'violation_description', 'no_standing_or_stopping_violation', 'hydrant_violation', 'double_parking_violation', 'latitude', 'longitude', 'community_board', 'community_council', 'census_tract', 'bin', 'bbl', 'nta']\n",
      "Failed validation\n"
     ]
    }
   ],
   "source": [
    "data = pd.read_csv(valParams[\"dataset-path\"], sep = valParams[\"dataset-delimiter\"])\n",
    "\n",
    "if validation.colVal(data, valParams[\"cols\"]):\n",
    "    print(\"This data is valid\")\n",
    "    validation.writeAndZip(data, valParams)\n",
    "    print(\"Successfully wrote and zipped valid file\")\n",
    "else: \n",
    "    print(\"Failed validation\")"
   ]
  },
  {
   "cell_type": "code",
   "execution_count": 4,
   "id": "80db87d6-4ea9-4934-befe-839490cc53e3",
   "metadata": {},
   "outputs": [
    {
     "name": "stdout",
     "output_type": "stream",
     "text": [
      "Overwriting file.yaml\n"
     ]
    }
   ],
   "source": [
    "%%writefile file.yaml\n",
    "dataset-path: \"archive/parking_clean.csv\"\n",
    "output-path: \"archive/parking.txt.gz\"\n",
    "file-type: csv\n",
    "dataset-delimiter: \",\"\n",
    "write-delimiter: \"|\"\n",
    "num-cols: 51\n",
    "cols:\n",
    "  - summons_number\n",
    "  - plate_id\n",
    "  - registration_state\n",
    "  - plate_type\n",
    "  - issue_date\n",
    "  - violation_code\n",
    "  - vehicle_body_type\n",
    "  - vehicle_make\n",
    "  - issuing_agency\n",
    "  - street_code1\n",
    "  - street_code2\n",
    "  - street_code3\n",
    "  - vehicle_expiration_date\n",
    "  - violation_location\n",
    "  - violation_precinct\n",
    "  - issuer_precinct\n",
    "  - issuer_code\n",
    "  - issuer_command\n",
    "  - issuer_squad\n",
    "  - violation_time\n",
    "  - time_first_observed\n",
    "  - violation_county\n",
    "  - violation_in_front_of_or_opposite\n",
    "  - house_number\n",
    "  - street_name\n",
    "  - intersecting_street\n",
    "  - date_first_observed\n",
    "  - law_section\n",
    "  - sub_division\n",
    "  - violation_legal_code\n",
    "  - days_parking_in_effect\n",
    "  - from_hours_in_effect\n",
    "  - to_hours_in_effect\n",
    "  - vehicle_color\n",
    "  - unregistered_vehicle\n",
    "  - vehicle_year\n",
    "  - meter_number\n",
    "  - feet_from_curb\n",
    "  - violation_post_code\n",
    "  - violation_description\n",
    "  - no_standing_or_stopping_violation\n",
    "  - hydrant_violation\n",
    "  - double_parking_violation\n",
    "  - latitude\n",
    "  - longitude\n",
    "  - community_board\n",
    "  - community_council\n",
    "  - census_tract\n",
    "  - bin\n",
    "  - bbl\n",
    "  - nta"
   ]
  },
  {
   "cell_type": "code",
   "execution_count": 5,
   "id": "6ef748b5-ae9f-4075-80dd-14727e3e99db",
   "metadata": {},
   "outputs": [
    {
     "name": "stdout",
     "output_type": "stream",
     "text": [
      "Dataframe matches column list: ['summons_number', 'plate_id', 'registration_state', 'plate_type', 'issue_date', 'violation_code', 'vehicle_body_type', 'vehicle_make', 'issuing_agency', 'street_code1', 'street_code2', 'street_code3', 'vehicle_expiration_date', 'violation_location', 'violation_precinct', 'issuer_precinct', 'issuer_code', 'issuer_command', 'issuer_squad', 'violation_time', 'time_first_observed', 'violation_county', 'violation_in_front_of_or_opposite', 'house_number', 'street_name', 'intersecting_street', 'date_first_observed', 'law_section', 'sub_division', 'violation_legal_code', 'days_parking_in_effect', 'from_hours_in_effect', 'to_hours_in_effect', 'vehicle_color', 'unregistered_vehicle', 'vehicle_year', 'meter_number', 'feet_from_curb', 'violation_post_code', 'violation_description', 'no_standing_or_stopping_violation', 'hydrant_violation', 'double_parking_violation', 'latitude', 'longitude', 'community_board', 'community_council', 'census_tract', 'bin', 'bbl', 'nta']\n",
      "This data is valid\n",
      "Successfully wrote and zipped valid file\n"
     ]
    }
   ],
   "source": [
    "valParams = validation.readYaml(\"file.yaml\")\n",
    "data = pd.read_csv(valParams[\"dataset-path\"], sep = valParams[\"dataset-delimiter\"])\n",
    "\n",
    "if validation.colVal(data, valParams[\"cols\"]):\n",
    "    print(\"This data is valid\")\n",
    "    validation.writeAndZip(data, valParams)\n",
    "    print(\"Successfully wrote and zipped valid file\")\n",
    "else: \n",
    "    print(\"Failed validation\")"
   ]
  },
  {
   "cell_type": "code",
   "execution_count": 11,
   "id": "4cdca480-3470-40c0-ada0-888d389b686b",
   "metadata": {},
   "outputs": [
    {
     "name": "stdout",
     "output_type": "stream",
     "text": [
      "Num rows: 11809233\n",
      "Num columns: 51\n",
      "Dataset size: 2889912533 bytes\n"
     ]
    }
   ],
   "source": [
    "print(f\"Num rows: {len(data)}\")\n",
    "print(f\"Num columns: {len(data.columns)}\")\n",
    "print(f\"Dataset size: {os.path.getsize(valParams['dataset-path'])} bytes\")"
   ]
  },
  {
   "cell_type": "code",
   "execution_count": null,
   "id": "2ed7e21b-027b-4a3e-8c76-60e40674b20d",
   "metadata": {},
   "outputs": [],
   "source": []
  }
 ],
 "metadata": {
  "kernelspec": {
   "display_name": "Python 3 (ipykernel)",
   "language": "python",
   "name": "python3"
  },
  "language_info": {
   "codemirror_mode": {
    "name": "ipython",
    "version": 3
   },
   "file_extension": ".py",
   "mimetype": "text/x-python",
   "name": "python",
   "nbconvert_exporter": "python",
   "pygments_lexer": "ipython3",
   "version": "3.12.7"
  }
 },
 "nbformat": 4,
 "nbformat_minor": 5
}
